{
  "nbformat": 4,
  "nbformat_minor": 0,
  "metadata": {
    "colab": {
      "private_outputs": true,
      "provenance": []
    },
    "kernelspec": {
      "name": "python3",
      "display_name": "Python 3"
    },
    "language_info": {
      "name": "python"
    }
  },
  "cells": [
    {
      "cell_type": "code",
      "execution_count": null,
      "metadata": {
        "id": "iZsn_cTuzg3b"
      },
      "outputs": [],
      "source": []
    },
    {
      "cell_type": "code",
      "source": [
        "number_of_people = 20\n",
        "if ( number_of_people > 20):\n",
        "  print( \"total people\")\n",
        "else:\n",
        "    print(\"people are here\")"
      ],
      "metadata": {
        "id": "dSy94kmy4m3f"
      },
      "execution_count": null,
      "outputs": []
    },
    {
      "cell_type": "code",
      "source": [
        "number_of_people = 10\n",
        "if (number_of_people == 10):\n",
        "  print(\"total people\")\n",
        "  else"
      ],
      "metadata": {
        "id": "rgYuDd1z6nUU"
      },
      "execution_count": null,
      "outputs": []
    },
    {
      "cell_type": "code",
      "source": [],
      "metadata": {
        "id": "JSEnw-bc9SWc"
      },
      "execution_count": null,
      "outputs": []
    },
    {
      "cell_type": "code",
      "source": [
        "num :int = 100\n",
        "if (num > 0  and num < 100):\n",
        "  print(\"positive number\")\n",
        "else:\n",
        "  print((\"negative number\"))"
      ],
      "metadata": {
        "id": "ZZvkP0VN-S0P"
      },
      "execution_count": null,
      "outputs": []
    },
    {
      "cell_type": "code",
      "source": [
        "food:str = \"burger\"\n",
        "coke :str= \"pizza\"\n",
        "if (food == coke):\n",
        "  print(\"food is good\")\n",
        "else:\n",
        "    print((\"food is nt good\"))"
      ],
      "metadata": {
        "id": "MZ-MFCmQBARi"
      },
      "execution_count": null,
      "outputs": []
    },
    {
      "cell_type": "code",
      "source": [
        "#snake case\n",
        "time_of_day: str = \"evening\"\n",
        "if \"time_of_day == morning\":\n",
        "  print((\"good morning\"))\n",
        "elif time_of_day == \"evening\":\n",
        "  print(\"good evening\")\n",
        "else:\n",
        "  print(\"good night\")\n",
        "time_of_day: str= \"night\"\n",
        "if \"time_of_day == night\":\n",
        "  print(\"good night\")\n",
        "\n"
      ],
      "metadata": {
        "id": "sf_hOuPNCKhl"
      },
      "execution_count": null,
      "outputs": []
    },
    {
      "cell_type": "code",
      "source": [
        "name_of_students:list[str] = [\"mariam,amna,aisha,saima,aqsa,saba,iqra,aiman\"]\n",
        "print(name_of_students)\n",
        "for loop in name_of_students:\n",
        "  print(loop)\n",
        "  print (\"name_of_students [0,1,2,3,4,5,6,7]\")\n"
      ],
      "metadata": {
        "id": "feKT1Vc52k23"
      },
      "execution_count": null,
      "outputs": []
    },
    {
      "cell_type": "code",
      "source": [],
      "metadata": {
        "id": "1c4S4c86HuVW"
      },
      "execution_count": null,
      "outputs": []
    },
    {
      "cell_type": "code",
      "source": [
        "name_of_days:list [str]= [\"monday\",\"tuesday\",\"wednesday\",\"thursday\",\"friday\",\"saturday\",\"sunday\"]\n",
        "name_of_days: list[str] = [\"monday\",\"tuesday\",\"wednesday\",\"thursday\",\"friday\",\"saturday\",\"sunday\"]\n",
        "for num in name_of_days:\n",
        "  print(num)\n",
        "for i in range(0,6):\n",
        "  print(i)\n"
      ],
      "metadata": {
        "id": "oZyIWKFD_KKj"
      },
      "execution_count": null,
      "outputs": []
    }
  ]
}